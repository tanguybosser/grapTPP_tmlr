{
 "cells": [
  {
   "cell_type": "code",
   "execution_count": 1,
   "metadata": {},
   "outputs": [
    {
     "name": "stderr",
     "output_type": "stream",
     "text": [
      "/home/tanguy/miniconda/envs/env_tpp/lib/python3.9/site-packages/tqdm/auto.py:22: TqdmWarning: IProgress not found. Please update jupyter and ipywidgets. See https://ipywidgets.readthedocs.io/en/stable/user_install.html\n",
      "  from .autonotebook import tqdm as notebook_tqdm\n"
     ]
    },
    {
     "data": {
      "text/plain": [
       "False"
      ]
     },
     "execution_count": 1,
     "metadata": {},
     "output_type": "execute_result"
    }
   ],
   "source": [
    "%load_ext autoreload\n",
    "%autoreload 2\n",
    "\n",
    "from pathlib import Path\n",
    "import warnings\n",
    "\n",
    "import torch\n",
    "import matplotlib as mpl\n",
    "import matplotlib.pyplot as plt\n",
    "import seaborn as sns\n",
    "import pandas as pd\n",
    "import numpy as np\n",
    "\n",
    "from conformal.dataframes import load_df, set_test_metrics_columns, op_without_index\n",
    "from conformal.plot import set_notebook_options, plot_coverage, plot_metrics_on_real_world_datasets_with_separate_axes, savefig, plot_metrics_for_varying_trainingsize\n",
    "from conformal.visu import map_model, map_dataset\n",
    "\n",
    "set_notebook_options()\n",
    "warnings.filterwarnings('ignore', 'All-NaN axis encountered')\n",
    "\n",
    "#exp_name = 'full2/poisson_gru_mlp-cm_temporal_with_labels'\n",
    "#path = Path('figures') / exp_name\n",
    "results_path = Path('results_neurips/full_neurips')\n",
    "torch.cuda.is_available()"
   ]
  },
  {
   "cell_type": "markdown",
   "metadata": {},
   "source": [
    "## Loading"
   ]
  },
  {
   "cell_type": "code",
   "execution_count": 2,
   "metadata": {},
   "outputs": [
    {
     "name": "stderr",
     "output_type": "stream",
     "text": [
      "Loading results_neurips/full_neurips/poisson_gru_mlp-cm_temporal_with_labels/stack_overflow_shortcal/0.2/N-QR/cal_size=None/run=1.pkl:   0%|          | 0/777 [00:00<?, ?it/s]   "
     ]
    },
    {
     "name": "stderr",
     "output_type": "stream",
     "text": [
      "Loading results_neurips/full_neurips/gru_log-normal-mixture_temporal_with_labels/stack_overflow_filtered/0.2/N-QR/cal_size=None/run=0.pkl: 100%|██████████| 777/777 [00:16<00:00, 47.04it/s]         \n"
     ]
    }
   ],
   "source": [
    "df_raw = load_df(results_path)\n",
    "set_test_metrics_columns(df_raw)"
   ]
  },
  {
   "cell_type": "markdown",
   "metadata": {},
   "source": [
    "## Preprocessing"
   ]
  },
  {
   "cell_type": "code",
   "execution_count": 3,
   "metadata": {},
   "outputs": [],
   "source": [
    "def op(df):\n",
    "    df = df.copy()\n",
    "    df['model'] = df['model'].map(map_model)\n",
    "    df['dataset'] = df['dataset'].map(map_dataset)\n",
    "    return df\n",
    "\n",
    "df = op_without_index(df_raw, op)"
   ]
  },
  {
   "cell_type": "code",
   "execution_count": 4,
   "metadata": {},
   "outputs": [],
   "source": [
    "def relative_length(x):\n",
    "    return x / x.min()\n",
    "\n",
    "df['relative_length'] = df.groupby(list(set(df.index.names) - {'conformalizer', 'run_id'}), dropna=False)['specialized_length'].transform(relative_length)"
   ]
  },
  {
   "cell_type": "code",
   "execution_count": 4,
   "metadata": {},
   "outputs": [],
   "source": [
    "def median_length(x):\n",
    "    return np.median(x)\n",
    "\n",
    "df['median_length'] = df['lengths'].transform(median_length)"
   ]
  },
  {
   "cell_type": "markdown",
   "metadata": {},
   "source": [
    "## Metrics plots"
   ]
  },
  {
   "cell_type": "code",
   "execution_count": 5,
   "metadata": {},
   "outputs": [],
   "source": [
    "query_list = ['LastFM-F', 'LastFM-S', 'LastFM-L', 'LastFM-SL']\n",
    "query_list = ['LastFM-S', 'LastFM-L']\n",
    "model_list = ['LN']\n",
    "df_plot = df.query('dataset in @query_list and model in @model_list' )"
   ]
  },
  {
   "cell_type": "code",
   "execution_count": 6,
   "metadata": {},
   "outputs": [
    {
     "name": "stdout",
     "output_type": "stream",
     "text": [
      "LN\n"
     ]
    }
   ],
   "source": [
    "mpl.rcParams['axes.formatter.limits'] = (-4, 4)\n",
    "\n",
    "path = Path('figures/neurips') \n",
    "\n",
    "\n",
    "for type, plot_df in df_plot.groupby('type', dropna=False):\n",
    "    plot_df = plot_df.query('cal_size.isna() or cal_size == 1024')\n",
    "    for model, df_model in plot_df.groupby('model', dropna=False):\n",
    "        print(model)\n",
    "        plot_metrics_on_real_world_datasets_with_separate_axes(df_model.query('dataset != \"Hawkes\"'), alpha=0.2, type=type)\n",
    "        savefig(path / 'real_world_metrics' / 'per_model_neurips' / f'{model}_{type}.pdf')"
   ]
  },
  {
   "cell_type": "markdown",
   "metadata": {},
   "source": [
    "## Coverage per level plots"
   ]
  },
  {
   "cell_type": "code",
   "execution_count": 12,
   "metadata": {},
   "outputs": [
    {
     "name": "stderr",
     "output_type": "stream",
     "text": [
      "/ssd/bdml1/tanguy/cntpp_neurips/conformal/dataframes.py:136: FutureWarning: The default value of numeric_only in DataFrameGroupBy.mean is deprecated. In a future version, numeric_only will default to False. Either specify numeric_only or select only columns which should be valid for the function.\n",
      "  return df.groupby(df.index.names, dropna=False).agg(agg_fn)\n",
      "/ssd/bdml1/tanguy/cntpp_neurips/conformal/dataframes.py:136: FutureWarning: The default value of numeric_only in DataFrameGroupBy.mean is deprecated. In a future version, numeric_only will default to False. Either specify numeric_only or select only columns which should be valid for the function.\n",
      "  return df.groupby(df.index.names, dropna=False).agg(agg_fn)\n",
      "/ssd/bdml1/tanguy/cntpp_neurips/conformal/dataframes.py:136: FutureWarning: The default value of numeric_only in DataFrameGroupBy.mean is deprecated. In a future version, numeric_only will default to False. Either specify numeric_only or select only columns which should be valid for the function.\n",
      "  return df.groupby(df.index.names, dropna=False).agg(agg_fn)\n"
     ]
    }
   ],
   "source": [
    "for metric in ['coverage']:\n",
    "    for type, df_type in df.groupby('type', dropna=False):\n",
    "        df_type = df_type.query('cal_size.isna() or cal_size == 1024')\n",
    "        for model, df_model in df_type.groupby('model', dropna=False):\n",
    "            plot_coverage(df_model, metric, ncols=6, type=type)\n",
    "            savefig(path / f'{metric}_per_level' / model / f'{type}.pdf')"
   ]
  },
  {
   "cell_type": "markdown",
   "metadata": {},
   "source": [
    "## Others"
   ]
  },
  {
   "cell_type": "code",
   "execution_count": null,
   "metadata": {},
   "outputs": [],
   "source": [
    "for type, plot_df in df.groupby('type', dropna=False):\n",
    "    for model, df_model in plot_df.groupby('model', dropna=False):\n",
    "        plot_metrics_for_varying_trainingsize(df_model, alpha=0.2, type=type)\n",
    "        savefig(path / 'trainingsize' / f'train_{model}_{type}.pdf')"
   ]
  },
  {
   "cell_type": "markdown",
   "metadata": {},
   "source": [
    "## Distribution of region size ##"
   ]
  },
  {
   "cell_type": "code",
   "execution_count": 12,
   "metadata": {},
   "outputs": [
    {
     "name": "stdout",
     "output_type": "stream",
     "text": [
      "C-Const\n",
      "C-HDR-T\n",
      "Warning, region of size 20.148609518753652 predicted\n",
      "C-QR\n",
      "C-QRL\n"
     ]
    },
    {
     "data": {
      "image/png": "[encoded data removed]",
      "text/plain": [
       "<Figure size 1440x360 with 4 Axes>"
      ]
     },
     "metadata": {
      "needs_background": "light"
     },
     "output_type": "display_data"
    }
   ],
   "source": [
    "from conformal.plot import region_length_distributions\n",
    "\n",
    "dataset = 'lastfm_superlargecal'\n",
    "model = 'gru_log-normal-mixture_temporal_with_labels'\n",
    "split = 1\n",
    "\n",
    "region_length_distributions(df_raw, model, dataset, split)"
   ]
  },
  {
   "cell_type": "markdown",
   "metadata": {},
   "source": [
    "## Mark Calibration"
   ]
  },
  {
   "cell_type": "code",
   "execution_count": null,
   "metadata": {},
   "outputs": [],
   "source": [
    "from plot.plots_esann import mark_calibration\n",
    "\n",
    "results_dir = 'results/full'\n",
    "save_dir = 'figures/calibration/mark'\n",
    "\n",
    "models = [\n",
    "    'gru_cond-log-normal-mixture_temporal_with_labels',\n",
    "    'poisson_gru_mlp-cm_temporal_with_labels',\n",
    "    'identity_poisson_times_only'\n",
    "]\n",
    "\n",
    "datasets  = [\n",
    "    'lastfm',\n",
    "    'mooc',\n",
    "    'reddit',\n",
    "    'stack_overflow'\n",
    "]\n",
    "\n",
    "\n",
    "for dataset in datasets:\n",
    "    mark_calibration(models, dataset, results_dir, splits=3, save_dir=save_dir, title=None)"
   ]
  },
  {
   "cell_type": "markdown",
   "metadata": {},
   "source": [
    "## Time Calibration ##"
   ]
  },
  {
   "cell_type": "code",
   "execution_count": 2,
   "metadata": {},
   "outputs": [],
   "source": [
    "from plot.plots_esann import time_calibration\n",
    "\n",
    "results_dir = 'results/full'\n",
    "save_dir = 'figures/calibration/time'\n",
    "\n",
    "models = [\n",
    "    'gru_cond-log-normal-mixture_temporal_with_labels',\n",
    "    'poisson_gru_mlp-cm_temporal_with_labels',\n",
    "    'identity_poisson_times_only'\n",
    "]\n",
    "\n",
    "datasets  = [\n",
    "    'lastfm',\n",
    "    'mooc',\n",
    "    'reddit',\n",
    "    'stack_overflow'\n",
    "]\n",
    "\n",
    "\n",
    "for dataset in datasets:\n",
    "    time_calibration(models, dataset, results_dir, splits=1, save_dir=save_dir, title=None)"
   ]
  },
  {
   "cell_type": "markdown",
   "metadata": {},
   "source": [
    "## Debug Section"
   ]
  },
  {
   "cell_type": "code",
   "execution_count": 17,
   "metadata": {},
   "outputs": [
    {
     "name": "stdout",
     "output_type": "stream",
     "text": [
      "0.800000011920929\n",
      "46.68883514404297\n"
     ]
    }
   ],
   "source": [
    "from conformal.dataframes import CPU_Unpickler\n",
    "\n",
    "'''\n",
    "for i in range(3):\n",
    "    path = f'results_neurips/full/gru_cond-log-normal-mixture_temporal_with_labels/lastfm/0.2/C-HDR-T/cal_size=None/run={i}.pkl'\n",
    "    with open(path, 'rb') as f:\n",
    "        df = CPU_Unpickler(f).load()\n",
    "    print(df['metrics'].item()['specialized_length'])\n",
    "'''\n",
    "\n",
    "#path1 = 'results_neurips/full2/gru_cond-log-normal-mixture_temporal_with_labels/lastfm/0.2/C-HDR-T/cal_size=None/run=0.pkl'\n",
    "\n",
    "path = 'results_neurips/full3/gru_log-normal-mixture_temporal_with_labels/lastfm_window/0.2/C-HDR-T/cal_size=None/run=1.pkl'\n",
    "#paths = [path1, path2]\n",
    "\n",
    "#path = f'results_neurips/full2/gru_cond-log-normal-mixture_temporal_with_labels/lastfm/0.2/C-HDR-T/cal_size=None/run=0.pkl'\n",
    "with open(path, 'rb') as f:\n",
    "        df = CPU_Unpickler(f).load()\n",
    "print(df['metrics'].item()['coverage'])\n",
    "print(df['metrics'].item()['specialized_length'])\n",
    "#for k in range(len(df['metrics'].item()['preds'])):\n",
    "#    print(df['metrics'].item()['preds'][k][0])"
   ]
  },
  {
   "cell_type": "code",
   "execution_count": 42,
   "metadata": {},
   "outputs": [
    {
     "data": {
      "image/png": "[encoded data removed]",
      "text/plain": [
       "<Figure size 432x288 with 1 Axes>"
      ]
     },
     "metadata": {
      "needs_background": "light"
     },
     "output_type": "display_data"
    }
   ],
   "source": [
    "from torch.distributions import Beta\n",
    "import matplotlib.pyplot as plt\n",
    "\n",
    "fig, ax = plt.subplots(1,1)\n",
    "\n",
    "alpha1 = Beta(0.8, 0.8).sample((10000,)).sort().values\n",
    "\n",
    "ax.hist(alpha1.numpy(), bins=100, color='blue', label='(0.8, 0.8)', alpha=0.5)\n",
    "\n",
    "alpha2 = Beta(1, 0.5).sample((10000,)).sort().values\n",
    "ax.hist(alpha2.numpy(), bins=100, color='red', label='(5,1)', alpha=0.5) \n",
    "\n",
    "ax.legend()\n",
    "plt.show()"
   ]
  },
  {
   "cell_type": "code",
   "execution_count": 2,
   "metadata": {},
   "outputs": [
    {
     "name": "stdout",
     "output_type": "stream",
     "text": [
      "Length 55.26105499267578\n",
      "Coverage 0.7888888716697693\n",
      "q tensor(0.9871, dtype=torch.float64)\n",
      "\n",
      "\n",
      "Length 92.3140640258789\n",
      "Coverage 0.800000011920929\n",
      "q tensor(0.9750, dtype=torch.float64)\n",
      "\n",
      "\n",
      "Length 42.56452560424805\n",
      "Coverage 0.8444444537162781\n",
      "q tensor(0.9717, dtype=torch.float64)\n",
      "\n",
      "\n"
     ]
    }
   ],
   "source": [
    "from conformal.dataframes import CPU_Unpickler\n",
    "#path_0 = 'results_neurips/full_neurips/gru_log-normal-mixture_temporal_with_labels/lastfm_superlargecal/0.2/C-HDR-T/cal_size=None/run=0.pkl'\n",
    "#path_1 = 'results_neurips/full_neurips/gru_log-normal-mixture_temporal_with_labels/lastfm_superlargecal/0.2/C-HDR-T/cal_size=None/run=1.pkl'\n",
    "#path_2 = 'results_neurips/full_neurips/gru_log-normal-mixture_temporal_with_labels/lastfm_superlargecal/0.2/C-HDR-T/cal_size=None/run=2.pkl'\n",
    "\n",
    "#path_0 = 'results_neurips/full_neurips/poisson_gru_mlp-cm_temporal_with_labels/lastfm_shortcal/0.2/C-HDR-T/cal_size=None/run=0.pkl'\n",
    "#path_1 = 'results_neurips/full_neurips/poisson_gru_mlp-cm_temporal_with_labels/lastfm_shortcal/0.2/C-HDR-T/cal_size=None/run=1.pkl'\n",
    "#path_2 = 'results_neurips/full_neurips/poisson_gru_mlp-cm_temporal_with_labels/lastfm_shortcal/0.2/C-HDR-T/cal_size=None/run=2.pkl'\n",
    "\n",
    "#path_0 = 'results_neurips/full_neurips/identity_poisson_times_only/lastfm_largecal/0.2/C-HDR-T/cal_size=None/run=0.pkl'\n",
    "#path_1 = 'results_neurips/full_neurips/identity_poisson_times_only/lastfm_largecal/0.2/C-HDR-T/cal_size=None/run=1.pkl'\n",
    "#path_2 = 'results_neurips/full_neurips/identity_poisson_times_only/lastfm_largecal/0.2/C-HDR-T/cal_size=None/run=2.pkl'\n",
    "\n",
    "path_0 = 'results_neurips/full_neurips2/gru_log-normal-mixture_temporal_with_labels/lastfm_1000/0.2/C-HDR-T/cal_size=None/run=0.pkl'\n",
    "path_1 = 'results_neurips/full_neurips2/gru_log-normal-mixture_temporal_with_labels/lastfm_1000/0.2/C-HDR-T/cal_size=None/run=1.pkl'\n",
    "path_2 = 'results_neurips/full_neurips2/gru_log-normal-mixture_temporal_with_labels/lastfm_1000/0.2/C-HDR-T/cal_size=None/run=2.pkl'\n",
    "\n",
    "paths = [path_0, path_1, path_2]\n",
    "\n",
    "for path in paths:\n",
    "        with open(path, 'rb') as f:\n",
    "                df = CPU_Unpickler(f).load()\n",
    "        print('Length', df['metrics'].item()['specialized_length'])     \n",
    "        print('Coverage', df['metrics'].item()['coverage'])    \n",
    "        print('q', df['metrics'].item()['q'])\n",
    "        print('\\n')\n"
   ]
  },
  {
   "cell_type": "code",
   "execution_count": null,
   "metadata": {},
   "outputs": [],
   "source": [
    "import matplotlib.pyplot as plt \n",
    "from conformal.dataframes import CPU_Unpickler\n",
    "\n",
    "path_ln_l = 'results_neurips/full3/gru_log-normal-mixture_temporal_with_labels_nomix/lastfm_largecal/0.2/C-HDR-T/cal_size=None/run=0.pkl'\n",
    "\n",
    "\n",
    "path_lnm_l = 'results_neurips/full2/gru_log-normal-mixture_temporal_with_labels/lastfm_largecal/0.2/C-HDR-T/cal_size=None/run=0.pkl'\n",
    "path_cln_l = 'results_neurips/full2/gru_cond-log-normal-mixture_temporal_with_labels_nomix/lastfm_largecal/0.2/C-HDR-T/cal_size=None/run=0.pkl'\n",
    "path_clnm_l = 'results_neurips/full2/gru_cond-log-normal-mixture_temporal_with_labels/lastfm_largecal/0.2/C-HDR-T/cal_size=None/run=0.pkl'\n",
    "\n",
    "for path in paths_chdrt:\n",
    "        with open(path, 'rb') as f:\n",
    "                df = CPU_Unpickler(f).load()\n",
    "        print('Length', df['metrics'].item()['specialized_length'])     \n",
    "        print('Coverage', df['metrics'].item()['coverage'])    \n",
    "        print('q', df['metrics'].item()['q'])\n",
    "        print('\\n')"
   ]
  }
 ],
 "metadata": {
  "kernelspec": {
   "display_name": "Python 3.10.4 64-bit",
   "language": "python",
   "name": "python3"
  },
  "language_info": {
   "codemirror_mode": {
    "name": "ipython",
    "version": 3
   },
   "file_extension": ".py",
   "mimetype": "text/x-python",
   "name": "python",
   "nbconvert_exporter": "python",
   "pygments_lexer": "ipython3",
   "version": "3.9.18"
  },
  "orig_nbformat": 4,
  "vscode": {
   "interpreter": {
    "hash": "916dbcbb3f70747c44a77c7bcd40155683ae19c65e1c03b4aa3499c5328201f1"
   }
  }
 },
 "nbformat": 4,
 "nbformat_minor": 2
}
